{
 "cells": [
  {
   "cell_type": "code",
   "execution_count": 1,
   "id": "04ed041e",
   "metadata": {},
   "outputs": [
    {
     "data": {
      "text/html": [
       "\n",
       "<script>\n",
       "    // Function to toggle the display of the raw notebook code\n",
       "    code_show=true; \n",
       "    function code_toggle() {\n",
       "        if (code_show) {\n",
       "            $('div.input').hide();\n",
       "            $('#code_toggle').html('Note: The source code in this notebook is hidden by default. <span onclick=\"code_toggle()\"><em>Click here</em></span> to view it.')\n",
       "        } else {\n",
       "            $('div.input').show();\n",
       "            $('#code_toggle').html('Note: The source code in this notebook is currently being shown. <span onclick=\"code_toggle()\"><em>Click here</em></span> to hide it.')\n",
       "        }\n",
       "        code_show = !code_show\n",
       "    } \n",
       "    $( document ).ready(code_toggle);\n",
       "</script>\n",
       "\n",
       "<p style=\"text-align:right;\" id=\"code_toggle\">Note: The source code in this notebook is hidden by default. <span onclick=\"code_toggle()\"><em>Click here</em></span> to view it.</p>\n",
       "\n",
       "<div style=\"height:50px; width=100%; background-color:#004F9D;\">\n",
       "</div>\n",
       "<div style=\"height:400px; width=100%; background-color:#004F9D;\">\n",
       "    <a href=\"javascript:void(0)\" onclick=\"window.open('https://bnh.ai','_blank');\"><img src='https://images.squarespace-cdn.com/content/v1/5e418b12e17478262cd574c1/1615154256586-DX17V1MS9T9U18XXH3R2/bnh_white_buffer%408x.png' width=\"450px\" height=\"300px\" style=\"vertical-align:middle; display:block; margin-left:auto; margin-right:auto;\"></a> \n",
       "    <h1 style=\"text-align:center; color:white; margin-left: 25px\">\n",
       "        Microwave Bias Calculator for New York City Local Law 144\n",
       "    </h1>\n",
       "</div>\n",
       "\n",
       "<br>\n",
       "\n",
       "<p>\n",
       "    This notebook helps users engage in bias tests to comply with the requirements\n",
       "    of Local Law 144, as set forth by New York City's Department of Consumer and\n",
       "    Worker Protection (DCWP) in its December 2022 proposed rules \n",
       "    (available <a href=\"javascript:void(0);\" onclick=\"window.open('https://rules.cityofnewyork.us/rule/automated-employment-decision-tools-updated/','_blank');\">here</a>).\n",
       "    In particular, this notebook calculates selection and scoring rates as well as\n",
       "    adverse impact ratios for demographic groups, as mandated by the DCWP proposed rules.\n",
       "</p>\n",
       "\n",
       "<br>\n",
       "\n",
       "<p>\n",
       "    <i>\n",
       "    This notebook is being provided under the \n",
       "    Creative Commons Attribution-NonCommercial-NoDerivatives 4.0 International (CC BY-NC-ND 4.0) \n",
       "    license. For more information about the restrictions associated with this license, see \n",
       "    <a href=\"javascript:void(0);\" onclick=\"window.open('https://creativecommons.org/licenses/by-nc-nd/4.0/legalcode','_blank');\">here</a>.  \n",
       "    Additionally, note that the information provided by this\n",
       "    notebook does not contain specific legal advice and use of this information\n",
       "    does not create an attorney-client relationship with <a href=\"javascript:void(0)\" onclick=\"window.open('https://bnh.ai','_blank');\">BNH.AI</a>.\n",
       "    </i>\n",
       "</p>\n",
       "\n",
       "<br>\n",
       "\n",
       "<p>\n",
       "    When first opening this notebook, select \"Kernel\" -> \"Restart & Run All\" from the menu above \n",
       "    to run the notebook. Prior to running the notebook, you may see some code or the message \n",
       "    \"A Jupyter widget could not be displayed ...\" repeated below the line.\n",
       "</p>\n",
       "\n",
       "<br>\n",
       "\n",
       "<hr style=\"align: center; border-top:0.5px solid black; width:50%;\">\n"
      ],
      "text/plain": [
       "<IPython.core.display.HTML object>"
      ]
     },
     "metadata": {},
     "output_type": "display_data"
    }
   ],
   "source": [
    "%%html\n",
    "\n",
    "<script>\n",
    "    // Function to toggle the display of the raw notebook code\n",
    "    code_show=true; \n",
    "    function code_toggle() {\n",
    "        if (code_show) {\n",
    "            $('div.input').hide();\n",
    "            $('#code_toggle').html('Note: The source code in this notebook is hidden by default. <span onclick=\"code_toggle()\"><em>Click here</em></span> to view it.')\n",
    "        } else {\n",
    "            $('div.input').show();\n",
    "            $('#code_toggle').html('Note: The source code in this notebook is currently being shown. <span onclick=\"code_toggle()\"><em>Click here</em></span> to hide it.')\n",
    "        }\n",
    "        code_show = !code_show\n",
    "    } \n",
    "    $( document ).ready(code_toggle);\n",
    "</script>\n",
    "\n",
    "<p style=\"text-align:right;\" id=\"code_toggle\">Note: The source code in this notebook is hidden by default. <span onclick=\"code_toggle()\"><em>Click here</em></span> to view it.</p>\n",
    "\n",
    "<div style=\"height:50px; width=100%; background-color:#004F9D;\">\n",
    "</div>\n",
    "<div style=\"height:400px; width=100%; background-color:#004F9D;\">\n",
    "    <a href=\"javascript:void(0)\" onclick=\"window.open('https://bnh.ai','_blank');\"><img src='https://images.squarespace-cdn.com/content/v1/5e418b12e17478262cd574c1/1615154256586-DX17V1MS9T9U18XXH3R2/bnh_white_buffer%408x.png' width=\"450px\" height=\"300px\" style=\"vertical-align:middle; display:block; margin-left:auto; margin-right:auto;\"></a> \n",
    "    <h1 style=\"text-align:center; color:white; margin-left: 25px\">\n",
    "        Microwave Bias Calculator for New York City Local Law 144\n",
    "    </h1>\n",
    "</div>\n",
    "\n",
    "<br>\n",
    "\n",
    "<p>\n",
    "    This notebook helps users engage in bias tests to comply with the requirements\n",
    "    of Local Law 144, as set forth by New York City's Department of Consumer and\n",
    "    Worker Protection (DCWP) in its December 2022 proposed rules \n",
    "    (available <a href=\"javascript:void(0);\" onclick=\"window.open('https://rules.cityofnewyork.us/rule/automated-employment-decision-tools-updated/','_blank');\">here</a>).\n",
    "    In particular, this notebook calculates selection and scoring rates as well as\n",
    "    adverse impact ratios for demographic groups, as mandated by the DCWP proposed rules.\n",
    "</p>\n",
    "\n",
    "<br>\n",
    "\n",
    "<p>\n",
    "    <i>\n",
    "    This notebook is being provided under the \n",
    "    Creative Commons Attribution-NonCommercial-NoDerivatives 4.0 International (CC BY-NC-ND 4.0) \n",
    "    license. For more information about the restrictions associated with this license, see \n",
    "    <a href=\"javascript:void(0);\" onclick=\"window.open('https://creativecommons.org/licenses/by-nc-nd/4.0/legalcode','_blank');\">here</a>.  \n",
    "    Additionally, note that the information provided by this\n",
    "    notebook does not contain specific legal advice and use of this information\n",
    "    does not create an attorney-client relationship with <a href=\"javascript:void(0)\" onclick=\"window.open('https://bnh.ai','_blank');\">BNH.AI</a>.\n",
    "    </i>\n",
    "</p>\n",
    "\n",
    "<br>\n",
    "\n",
    "<p>\n",
    "    When first opening this notebook, select \"Kernel\" -> \"Restart & Run All\" from the menu above \n",
    "    to run the notebook. Prior to running the notebook, you may see some code or the message \n",
    "    \"A Jupyter widget could not be displayed ...\" repeated below the line.\n",
    "</p>\n",
    "\n",
    "<br>\n",
    "\n",
    "<hr style=\"align: center; border-top:0.5px solid black; width:50%;\">\n"
   ]
  },
  {
   "cell_type": "code",
   "execution_count": 2,
   "id": "a108e47a",
   "metadata": {},
   "outputs": [
    {
     "data": {
      "application/javascript": [
       "\n",
       "                IPython.OutputArea.prototype._should_scroll = function(lines) {\n",
       "                    return false;\n",
       "                }\n",
       "                // Disable the autosave to minimize potential for caching issues\n",
       "                IPython.notebook.set_autosave_interval(0);\n",
       "            "
      ],
      "text/plain": [
       "<IPython.core.display.Javascript object>"
      ]
     },
     "metadata": {},
     "output_type": "display_data"
    }
   ],
   "source": [
    "import sys\n",
    "\n",
    "sys.path.insert(0, \"..\")\n",
    "\n",
    "from util.display import JupyterFormManager\n",
    "\n",
    "manager = JupyterFormManager()"
   ]
  },
  {
   "cell_type": "code",
   "execution_count": 3,
   "id": "4b400f13",
   "metadata": {},
   "outputs": [
    {
     "data": {
      "application/vnd.jupyter.widget-view+json": {
       "model_id": "427774d213a4465eb238b0968fa362fa",
       "version_major": 2,
       "version_minor": 0
      },
      "text/plain": [
       "HTML(value=' \\n\\n            <style>\\n                .blue_button {\\n                  background-color: #004…"
      ]
     },
     "metadata": {},
     "output_type": "display_data"
    },
    {
     "data": {
      "application/vnd.jupyter.widget-view+json": {
       "model_id": "aa72a759bfd847b8babd3319ea323780",
       "version_major": 2,
       "version_minor": 0
      },
      "text/plain": [
       "Output()"
      ]
     },
     "metadata": {},
     "output_type": "display_data"
    },
    {
     "data": {
      "application/vnd.jupyter.widget-view+json": {
       "model_id": "a3966746fd4d45bb80e887976cdd43ed",
       "version_major": 2,
       "version_minor": 0
      },
      "text/plain": [
       "Output()"
      ]
     },
     "metadata": {},
     "output_type": "display_data"
    },
    {
     "data": {
      "application/vnd.jupyter.widget-view+json": {
       "model_id": "c2ca326698dd4e6cb8021a6a1a793293",
       "version_major": 2,
       "version_minor": 0
      },
      "text/plain": [
       "Output()"
      ]
     },
     "metadata": {},
     "output_type": "display_data"
    },
    {
     "data": {
      "application/vnd.jupyter.widget-view+json": {
       "model_id": "003c0a82e1f94b02bc4d02f44f26c77e",
       "version_major": 2,
       "version_minor": 0
      },
      "text/plain": [
       "Output()"
      ]
     },
     "metadata": {},
     "output_type": "display_data"
    },
    {
     "data": {
      "application/vnd.jupyter.widget-view+json": {
       "model_id": "d98da53f3b7540ad83d227a3cc4b3ff1",
       "version_major": 2,
       "version_minor": 0
      },
      "text/plain": [
       "Output()"
      ]
     },
     "metadata": {},
     "output_type": "display_data"
    },
    {
     "data": {
      "application/vnd.jupyter.widget-view+json": {
       "model_id": "a80bef46a4b94722bd1346985cc3b439",
       "version_major": 2,
       "version_minor": 0
      },
      "text/plain": [
       "Output()"
      ]
     },
     "metadata": {},
     "output_type": "display_data"
    },
    {
     "data": {
      "application/vnd.jupyter.widget-view+json": {
       "model_id": "69ac45ade4314b51a8c6be0df3497738",
       "version_major": 2,
       "version_minor": 0
      },
      "text/plain": [
       "Output()"
      ]
     },
     "metadata": {},
     "output_type": "display_data"
    },
    {
     "data": {
      "application/vnd.jupyter.widget-view+json": {
       "model_id": "a7867eced78940bfa831fe48b1575f7b",
       "version_major": 2,
       "version_minor": 0
      },
      "text/plain": [
       "Output()"
      ]
     },
     "metadata": {},
     "output_type": "display_data"
    }
   ],
   "source": [
    "manager.start()"
   ]
  }
 ],
 "metadata": {
  "kernelspec": {
   "display_name": "Python 3 (ipykernel)",
   "language": "python",
   "name": "python3"
  },
  "language_info": {
   "codemirror_mode": {
    "name": "ipython",
    "version": 3
   },
   "file_extension": ".py",
   "mimetype": "text/x-python",
   "name": "python",
   "nbconvert_exporter": "python",
   "pygments_lexer": "ipython3",
   "version": "3.9.12"
  },
  "vscode": {
   "interpreter": {
    "hash": "0764f9250d80a96aa58a62001561501c9d40598164cbca88fe0fc4065f6ac1fc"
   }
  }
 },
 "nbformat": 4,
 "nbformat_minor": 5
}
