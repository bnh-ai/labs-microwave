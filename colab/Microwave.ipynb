{
  "nbformat": 4,
  "nbformat_minor": 0,
  "metadata": {
    "colab": {
      "provenance": [],
      "include_colab_link": true
    },
    "kernelspec": {
      "name": "python3",
      "display_name": "Python 3"
    },
    "language_info": {
      "name": "python"
    }
  },
  "cells": [
    {
      "cell_type": "markdown",
      "metadata": {
        "id": "view-in-github",
        "colab_type": "text"
      },
      "source": [
        "<a href=\"https://colab.research.google.com/github/bnh-ai/labs-microwave/blob/main/colab/Microwave.ipynb\" target=\"_parent\"><img src=\"https://colab.research.google.com/assets/colab-badge.svg\" alt=\"Open In Colab\"/></a>"
      ]
    },
    {
      "cell_type": "code",
      "source": [
        "#@title BNH.AI Bias Calculator\n",
        "\n",
        "%%html\n",
        "\n",
        "<div style=\"height:50px; width=100%; background-color:#004F9D;\">\n",
        "</div>\n",
        "<div style=\"height:400px; width=100%; background-color:#004F9D;\">\n",
        "    <a href=\"javascript:void(0)\" onclick=\"window.open('https://bnh.ai','_blank');\"><img src='https://images.squarespace-cdn.com/content/v1/5e418b12e17478262cd574c1/1615154256586-DX17V1MS9T9U18XXH3R2/bnh_white_buffer%408x.png' width=\"450px\" height=\"300px\" style=\"vertical-align:middle; display:block; margin-left:auto; margin-right:auto;\"></a> \n",
        "    <h1 style=\"text-align:center; color:white; margin-left: 25px\">\n",
        "        New York City Local Law 144 Bias Calculator\n",
        "    </h1>\n",
        "</div>\n",
        "\n",
        "<br>\n",
        "\n",
        "<p>\n",
        "    This notebook helps users engage in bias tests to comply with the requirements\n",
        "    of Local Law 144, as set forth by New York City's Department of Consumer and\n",
        "    Worker Protection (DCWP) in its April 2023 Notice of Adoption of Final Rule\n",
        "    (available <a href=\"javascript:void(0)\" onclick=\"window.open('https://rules.cityofnewyork.us/rule/automated-employment-decision-tools-updated/','_blank');\">here</a>)\n",
        "    that has an effective date of July 5, 2023.  In particular, this notebook\n",
        "    calculates selection and scoring rates as well as adverse impact ratios for\n",
        "    demographic groups, as mandated by the DCWP rules.\n",
        "</p>\n",
        "\n",
        "<br>\n",
        "\n",
        "<p>\n",
        "    Note that this notebook is intended for demonstration purposes only. A notebook \n",
        "    that provides the same functionality is available for download \n",
        "    <a href=\"javascript:void(0)\" onclick=\"window.open('https://github.com/bnh-ai/labs-microwave','_blank');\">here</a>\n",
        "    if you prefer the added flexibility of a native Jupyter environment. \n",
        "    Because use of this notebook takes place in Google's cloud environment, and exists for \n",
        "    demonstration purposes only, we recommend against using sensitive data for such testing.\n",
        "</p>\n",
        "\n",
        "<br>\n",
        "\n",
        "<p>\n",
        "    <i>\n",
        "    This notebook is being provided under the \n",
        "    Creative Commons Attribution-NonCommercial-NoDerivatives 4.0 International (CC BY-NC-ND 4.0) \n",
        "    license. For more information about the restrictions associated with this license, see \n",
        "    <a href=\"javascript:void(0)\" onclick=\"window.open('https://creativecommons.org/licenses/by-nc-nd/4.0/legalcode','_blank');\">here</a>.  \n",
        "    Additionally, note that the information provided by this\n",
        "    notebook does not contain specific legal advice and use of this information\n",
        "    does not create an attorney-client relationship with \n",
        "    <a href=\"javascript:void(0)\" onclick=\"window.open('https://bnh.ai','_blank');\">BNH.AI</a>.\n",
        "    </i>\n",
        "</p>\n",
        "\n",
        "<br>\n",
        "\n",
        "<p>\n",
        "    To get started, select \"Runtime\" -> \"Run all\" from the menu above to initialize the notebook, then perform the NYC Local Law 144 bias calculation.\n",
        "</p>\n"
      ],
      "metadata": {
        "colab": {
          "base_uri": "https://localhost:8080/",
          "height": 706
        },
        "cellView": "form",
        "id": "d9KQXZp9Q4Mm",
        "outputId": "cd15c831-05e9-4b38-e106-3345a49f320e"
      },
      "execution_count": 11,
      "outputs": [
        {
          "output_type": "display_data",
          "data": {
            "text/plain": [
              "<IPython.core.display.Javascript object>"
            ],
            "application/javascript": [
              "google.colab.output.setIframeHeight(0, true, {maxHeight: 5000})"
            ]
          },
          "metadata": {}
        },
        {
          "output_type": "display_data",
          "data": {
            "text/plain": [
              "<IPython.core.display.Javascript object>"
            ],
            "application/javascript": [
              "google.colab.output.setIframeHeight(0, true, {maxHeight: 5000})"
            ]
          },
          "metadata": {}
        },
        {
          "output_type": "display_data",
          "data": {
            "text/plain": [
              "<IPython.core.display.Javascript object>"
            ],
            "application/javascript": [
              "google.colab.output.setIframeHeight(0, true, {maxHeight: 5000})"
            ]
          },
          "metadata": {}
        },
        {
          "output_type": "display_data",
          "data": {
            "text/plain": [
              "<IPython.core.display.Javascript object>"
            ],
            "application/javascript": [
              "google.colab.output.setIframeHeight(0, true, {maxHeight: 5000})"
            ]
          },
          "metadata": {}
        },
        {
          "output_type": "display_data",
          "data": {
            "text/plain": [
              "<IPython.core.display.Javascript object>"
            ],
            "application/javascript": [
              "google.colab.output.setIframeHeight(0, true, {maxHeight: 5000})"
            ]
          },
          "metadata": {}
        },
        {
          "output_type": "display_data",
          "data": {
            "text/plain": [
              "<IPython.core.display.Javascript object>"
            ],
            "application/javascript": [
              "google.colab.output.setIframeHeight(0, true, {maxHeight: 5000})"
            ]
          },
          "metadata": {}
        },
        {
          "output_type": "display_data",
          "data": {
            "text/plain": [
              "<IPython.core.display.HTML object>"
            ],
            "text/html": [
              "\n",
              "<div style=\"height:50px; width=100%; background-color:#004F9D;\">\n",
              "</div>\n",
              "<div style=\"height:400px; width=100%; background-color:#004F9D;\">\n",
              "    <a href=\"javascript:void(0)\" onclick=\"window.open('https://bnh.ai','_blank');\"><img src='https://images.squarespace-cdn.com/content/v1/5e418b12e17478262cd574c1/1615154256586-DX17V1MS9T9U18XXH3R2/bnh_white_buffer%408x.png' width=\"450px\" height=\"300px\" style=\"vertical-align:middle; display:block; margin-left:auto; margin-right:auto;\"></a> \n",
              "    <h1 style=\"text-align:center; color:white; margin-left: 25px\">\n",
              "        New York City Local Law 144 Bias Calculator\n",
              "    </h1>\n",
              "</div>\n",
              "\n",
              "<br>\n",
              "\n",
              "<p>\n",
              "    This notebook helps users engage in bias tests to comply with the requirements\n",
              "    of Local Law 144, as set forth by New York City's Department of Consumer and\n",
              "    Worker Protection (DCWP) in its April 2023 Notice of Adoption of Final Rule\n",
              "    (available <a href=\"javascript:void(0)\" onclick=\"window.open('https://rules.cityofnewyork.us/rule/automated-employment-decision-tools-updated/','_blank');\">here</a>)\n",
              "    that has an effective date of July 5, 2023.  In particular, this notebook\n",
              "    calculates selection and scoring rates as well as adverse impact ratios for\n",
              "    demographic groups, as mandated by the DCWP rules.\n",
              "</p>\n",
              "\n",
              "<br>\n",
              "\n",
              "<p>\n",
              "    Note that this notebook is intended for demonstration purposes only. A notebook \n",
              "    that provides the same functionality is available for download \n",
              "    <a href=\"javascript:void(0)\" onclick=\"window.open('https://github.com/bnh-ai/labs-microwave','_blank');\">here</a>\n",
              "    if you prefer the added flexibility of a native Jupyter environment. \n",
              "    Because use of this notebook takes place in Google's cloud environment, and exists for \n",
              "    demonstration purposes only, we recommend against using sensitive data for such testing.\n",
              "</p>\n",
              "\n",
              "<br>\n",
              "\n",
              "<p>\n",
              "    <i>\n",
              "    This notebook is being provided under the \n",
              "    Creative Commons Attribution-NonCommercial-NoDerivatives 4.0 International (CC BY-NC-ND 4.0) \n",
              "    license. For more information about the restrictions associated with this license, see \n",
              "    <a href=\"javascript:void(0)\" onclick=\"window.open('https://creativecommons.org/licenses/by-nc-nd/4.0/legalcode','_blank');\">here</a>.  \n",
              "    Additionally, note that the information provided by this\n",
              "    notebook does not contain specific legal advice and use of this information\n",
              "    does not create an attorney-client relationship with \n",
              "    <a href=\"javascript:void(0)\" onclick=\"window.open('https://bnh.ai','_blank');\">BNH.AI</a>.\n",
              "    </i>\n",
              "</p>\n",
              "\n",
              "<br>\n",
              "\n",
              "<p>\n",
              "    To get started, select \"Runtime\" -> \"Run all\" from the menu above to initialize the notebook, then perform the NYC Local Law 144 bias calculation.\n",
              "</p>\n"
            ]
          },
          "metadata": {}
        }
      ]
    },
    {
      "cell_type": "code",
      "source": [
        "#@title Initialize the Notebook\n",
        "\n",
        "import os\n",
        "import sys\n",
        "\n",
        "![ -d f\".{os.sep}sample_data\" ] && rm -rf f\".{os.sep}sample_data\"\n",
        "![ -d f\".{os.sep}labs-microwave\" ] && rm -rf f\".{os.sep}labs-microwave\"\n",
        "\n",
        "from IPython.display import display, HTML, Javascript\n",
        "\n",
        "def resize_colab_cell():\n",
        "    display(Javascript('google.colab.output.setIframeHeight(0, true, {maxHeight: 5000})'))\n",
        "get_ipython().events.register('pre_run_cell', resize_colab_cell)\n",
        "\n",
        "from IPython.utils import io\n",
        "with io.capture_output() as captured:\n",
        "    !git clone https://github.com/bnh-ai/labs-microwave.git\n",
        "\n",
        "if f\".{os.sep}labs-microwave\" not in sys.path:\n",
        "    sys.path.insert(0,f\".{os.sep}labs-microwave\")\n",
        "\n",
        "from util.display import JupyterFormManager\n",
        "\n",
        "manager = JupyterFormManager()\n",
        "\n"
      ],
      "metadata": {
        "id": "5Qi5jpAfhkiu",
        "cellView": "form"
      },
      "execution_count": null,
      "outputs": []
    },
    {
      "cell_type": "code",
      "source": [
        "#@title Perform NYC Local Law 144 Bias Calculation\n",
        "\n",
        "manager.start()"
      ],
      "metadata": {
        "id": "yUNOEtoq4fH4",
        "cellView": "form"
      },
      "execution_count": null,
      "outputs": []
    }
  ]
}